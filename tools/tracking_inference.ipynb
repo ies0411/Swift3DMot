{
 "cells": [
  {
   "cell_type": "code",
   "execution_count": 1,
   "metadata": {},
   "outputs": [
    {
     "data": {
      "text/plain": [
       "True"
      ]
     },
     "execution_count": 1,
     "metadata": {},
     "output_type": "execute_result"
    }
   ],
   "source": [
    "import torch\n",
    "torch.cuda.is_available()"
   ]
  },
  {
   "cell_type": "code",
   "execution_count": 2,
   "metadata": {},
   "outputs": [
    {
     "data": {
      "text/plain": [
       "tensor([0.2039, 0.9038, 0.3394, 0.4399, 0.1318, 0.1608, 0.3738, 0.5922, 0.5319,\n",
       "        0.8293], device='cuda:0')"
      ]
     },
     "execution_count": 2,
     "metadata": {},
     "output_type": "execute_result"
    }
   ],
   "source": [
    "torch.rand(10).cuda()\n",
    "#conda install pytorch==1.10.0 torchvision==0.11.0 torchaudio==0.10.0 cudatoolkit=11.3 -c pytorch -c conda-forge\n",
    "#pip install mayavi\n",
    "#install cuda 11.3 version\n",
    "#python setup.py develop\n",
    "#conda install opencv\n",
    "#pip install spconv-cu113\n",
    "#pip install open3d filterpy\n"
   ]
  },
  {
   "cell_type": "code",
   "execution_count": 3,
   "metadata": {},
   "outputs": [
    {
     "name": "stdout",
     "output_type": "stream",
     "text": [
      "Jupyter environment detected. Enabling Open3D WebVisualizer.\n",
      "[Open3D INFO] WebRTC GUI backend enabled.\n",
      "[Open3D INFO] WebRTCWindowSystem: HTTP handshake server disabled.\n"
     ]
    }
   ],
   "source": [
    "#conda install numba\n",
    "import argparse\n",
    "import glob\n",
    "from pathlib import Path\n",
    "\n",
    "try:\n",
    "    import open3d\n",
    "    from visual_utils import open3d_vis_utils as V\n",
    "    OPEN3D_FLAG = True\n",
    "except:\n",
    "    import mayavi.mlab as mlab\n",
    "    from visual_utils import visualize_utils as V\n",
    "    OPEN3D_FLAG = False\n",
    "\n",
    "import numpy as np\n",
    "import torch\n",
    "\n",
    "from pcdet.config import cfg, cfg_from_yaml_file\n",
    "from pcdet.datasets import DatasetTemplate\n",
    "from pcdet.models import build_network, load_data_to_gpu\n",
    "from pcdet.utils import common_utils\n"
   ]
  },
  {
   "cell_type": "code",
   "execution_count": 4,
   "metadata": {},
   "outputs": [],
   "source": [
    "\n",
    "\n",
    "class DemoDataset(DatasetTemplate):\n",
    "    def __init__(self, dataset_cfg, class_names, training=True, root_path=None, logger=None, ext='.bin'):\n",
    "        \"\"\"\n",
    "        Args:\n",
    "            root_path:\n",
    "            dataset_cfg:\n",
    "            class_names:\n",
    "            training:\n",
    "            logger:\n",
    "        \"\"\"\n",
    "        super().__init__(\n",
    "            dataset_cfg=dataset_cfg, class_names=class_names, training=training, root_path=root_path, logger=logger\n",
    "        )\n",
    "        self.root_path = root_path\n",
    "        self.ext = ext\n",
    "        data_file_list = glob.glob(str(root_path / f'*{self.ext}')) if self.root_path.is_dir() else [self.root_path]\n",
    "\n",
    "        data_file_list.sort()\n",
    "        self.sample_file_list = data_file_list\n",
    "\n",
    "    def __len__(self):\n",
    "        return len(self.sample_file_list)\n",
    "\n",
    "    def __getitem__(self, index):\n",
    "        if self.ext == '.bin':\n",
    "            points = np.fromfile(self.sample_file_list[index], dtype=np.float32).reshape(-1, 4)\n",
    "        elif self.ext == '.npy':\n",
    "            points = np.load(self.sample_file_list[index])\n",
    "        else:\n",
    "            raise NotImplementedError\n",
    "\n",
    "        input_dict = {\n",
    "            'points': points,\n",
    "            'frame_id': index,\n",
    "        }\n",
    "\n",
    "        data_dict = self.prepare_data(data_dict=input_dict)\n",
    "        return data_dict\n"
   ]
  },
  {
   "cell_type": "code",
   "execution_count": 5,
   "metadata": {},
   "outputs": [],
   "source": [
    "def parse_config():\n",
    "    parser = argparse.ArgumentParser(description='arg parser')\n",
    "    parser.add_argument('--cfg_file', type=str, default='cfgs/kitti_models/pv_rcnn.yaml',\n",
    "                        help='specify the config for demo')\n",
    "    parser.add_argument('--data_path', type=str, default='demo_data',\n",
    "                        help='specify the point cloud data file or directory')\n",
    "    parser.add_argument('--ckpt', default = \"checkpoints/pv_rcnn_8369.pth\",type=str,  help='specify the pretrained model')\n",
    "    parser.add_argument('--ext', type=str, default='.bin', help='specify the extension of your point cloud data file')\n",
    "\n",
    "    args = parser.parse_args(args=[])\n",
    "\n",
    "    cfg_from_yaml_file(args.cfg_file, cfg)\n",
    "\n",
    "    return args, cfg\n"
   ]
  },
  {
   "cell_type": "code",
   "execution_count": 6,
   "metadata": {},
   "outputs": [
    {
     "name": "stderr",
     "output_type": "stream",
     "text": [
      "2023-02-06 15:52:57,465   INFO  -----------------Quick Demo of OpenPCDet-------------------------\n"
     ]
    }
   ],
   "source": [
    "args, cfg = parse_config()\n",
    "logger = common_utils.create_logger()\n",
    "logger.info('-----------------Quick Demo of OpenPCDet-------------------------')"
   ]
  },
  {
   "cell_type": "code",
   "execution_count": 7,
   "metadata": {},
   "outputs": [],
   "source": [
    "demo_dataset = DemoDataset(\n",
    "    dataset_cfg=cfg.DATA_CONFIG, class_names=cfg.CLASS_NAMES, training=False,\n",
    "    root_path=Path(args.data_path), ext=args.ext, logger=logger\n",
    ")\n",
    "# logger.info(f'Total number of samples: \\t{len(demo_dataset)}')\n"
   ]
  },
  {
   "cell_type": "code",
   "execution_count": 8,
   "metadata": {},
   "outputs": [],
   "source": [
    "#only car \n",
    "def apply_thres(pred_dicts,thres=0.5):\n",
    "    detected_bbox_list = []\n",
    "    label_list =[]\n",
    "    ref_scores_list = []\n",
    "    for idx,bbox in enumerate(pred_dicts[0]['pred_boxes']):\n",
    "        if thres > pred_dicts[0]['pred_scores'][idx] or pred_dicts[0]['pred_labels'][idx] != 1:\n",
    "            continue\n",
    "        detected_bbox_list.append(bbox.tolist())\n",
    "        ref_scores_list.append(pred_dicts[0]['pred_scores'][idx])\n",
    "        label_list.append(pred_dicts[0]['pred_labels'][idx])\n",
    "    return detected_bbox_list,ref_scores_list,label_list\n",
    "# print(detected_bbox)"
   ]
  },
  {
   "cell_type": "code",
   "execution_count": 9,
   "metadata": {},
   "outputs": [
    {
     "name": "stderr",
     "output_type": "stream",
     "text": [
      "/home/server-003/anaconda3/envs/pcdet/lib/python3.8/site-packages/torch/functional.py:445: UserWarning: torch.meshgrid: in an upcoming release, it will be required to pass the indexing argument. (Triggered internally at  /opt/conda/conda-bld/pytorch_1634272068694/work/aten/src/ATen/native/TensorShape.cpp:2157.)\n",
      "  return _VF.meshgrid(tensors, **kwargs)  # type: ignore[attr-defined]\n",
      "2023-02-06 15:52:57,636   INFO  ==> Loading parameters from checkpoint checkpoints/pv_rcnn_8369.pth to CPU\n",
      "2023-02-06 15:52:57,670   INFO  ==> Done (loaded 367/367)\n"
     ]
    }
   ],
   "source": [
    "#TODO : use mayavi\n",
    "model = build_network(model_cfg=cfg.MODEL, num_class=len(cfg.CLASS_NAMES), dataset=demo_dataset)\n",
    "model.load_params_from_file(filename=args.ckpt, logger=logger, to_cpu=True)\n",
    "model.cuda()\n",
    "model.eval()\n",
    "pred_det_list=[]\n",
    "points_list=[]\n",
    "ref_scores_list=[]\n",
    "ref_label_list = []\n",
    "\n",
    "with torch.no_grad():\n",
    "    for idx, data_dict in enumerate(demo_dataset):\n",
    "        data_dict = demo_dataset.collate_batch([data_dict])\n",
    "        load_data_to_gpu(data_dict)\n",
    "        points_list.append(data_dict['points'][:, 1:])\n",
    "        pred_dicts, _ = model.forward(data_dict)\n",
    "        filtered_det,score,label = apply_thres(pred_dicts)\n",
    "        pred_det_list.append(filtered_det)\n",
    "        ref_scores_list.append(score)\n",
    "        ref_label_list.append(label)\n"
   ]
  },
  {
   "cell_type": "code",
   "execution_count": 97,
   "metadata": {},
   "outputs": [],
   "source": [
    "def translate_boxes_to_open3d_instance(gt_boxes):\n",
    "    \"\"\"\n",
    "             4-------- 6\n",
    "           /|         /|\n",
    "          5 -------- 3 .\n",
    "          | |        | |\n",
    "          . 7 -------- 1\n",
    "          |/         |/\n",
    "          2 -------- 0\n",
    "    \"\"\"\n",
    "    center = gt_boxes[0:3]\n",
    "    lwh = gt_boxes[3:6]\n",
    "    axis_angles = np.array([0, 0, gt_boxes[6] + 1e-10])\n",
    "    rot = open3d.geometry.get_rotation_matrix_from_axis_angle(axis_angles)\n",
    "    box3d = open3d.geometry.OrientedBoundingBox(center, rot, lwh)\n",
    "\n",
    "    line_set = open3d.geometry.LineSet.create_from_oriented_bounding_box(box3d)\n",
    "\n",
    "    # import ipdb; ipdb.set_trace(context=20)\n",
    "    lines = np.asarray(line_set.lines)\n",
    "    lines = np.concatenate([lines, np.array([[1, 4], [7, 6]])], axis=0)\n",
    "\n",
    "    line_set.lines = open3d.utility.Vector2iVector(lines)\n",
    "\n",
    "    return line_set, box3d"
   ]
  },
  {
   "cell_type": "code",
   "execution_count": 98,
   "metadata": {},
   "outputs": [
    {
     "data": {
      "text/plain": [
       "'\\n    7 -------- 4\\n   /|         /|\\n  6 -------- 5 .\\n  | |        | |\\n  . 3 -------- 0\\n  |/         |/\\n  2 -------- 1\\nArgs:\\n    boxes3d:  (N, 7) [x, y, z, dx, dy, dz, heading], (x, y, z) is the box center\\n\\nReturns:\\n'"
      ]
     },
     "execution_count": 98,
     "metadata": {},
     "output_type": "execute_result"
    }
   ],
   "source": [
    "# [[h,w,l,x,y,z,theta],...]\n",
    "#  bbox.h, bbox.w, bbox.l, bbox.x, bbox.y, bbox.z, bbox.ry = data[:7]\n",
    "\"\"\"\n",
    "    7 -------- 4\n",
    "   /|         /|\n",
    "  6 -------- 5 .\n",
    "  | |        | |\n",
    "  . 3 -------- 0\n",
    "  |/         |/\n",
    "  2 -------- 1\n",
    "Args:\n",
    "    boxes3d:  (N, 7) [x, y, z, dx, dy, dz, heading], (x, y, z) is the box center\n",
    "\n",
    "Returns:\n",
    "\"\"\""
   ]
  },
  {
   "cell_type": "code",
   "execution_count": 99,
   "metadata": {},
   "outputs": [],
   "source": [
    "import os, numpy as np, time, sys, argparse\n",
    "from tracking_modules.utils import Config, get_subfolder_seq, createFolder\n",
    "from tracking_modules.io import (\n",
    "    load_detection,\n",
    "    get_saving_dir,\n",
    "    get_frame_det,\n",
    "    save_results,\n",
    "    save_affinity,\n",
    ")\n",
    "from tracking_modules.model import AB3DMOT\n"
   ]
  },
  {
   "cell_type": "code",
   "execution_count": 100,
   "metadata": {},
   "outputs": [],
   "source": [
    "config_path = \"./tracking_modules/configs/config.yml\"\n",
    "cfg = Config(config_path)"
   ]
  },
  {
   "cell_type": "code",
   "execution_count": 101,
   "metadata": {},
   "outputs": [],
   "source": [
    "import numpy as np\n",
    "import open3d as o3d\n",
    "def text_3d(text, pos, direction=None, degree=0.0,density=5, font=\"/usr/share/fonts/truetype/dejavu/DejaVuSans-BoldOblique.ttf\", font_size=210):\n",
    "    \"\"\"\n",
    "    Generate a 3D text point cloud used for visualization.\n",
    "    :param text: content of the text\n",
    "    :param pos: 3D xyz position of the text upper left corner\n",
    "    :param direction: 3D normalized direction of where the text faces\n",
    "    :param degree: in plane rotation of text\n",
    "    :param font: Name of the font - change it according to your system\n",
    "    :param font_size: size of the font\n",
    "    :return: o3d.geoemtry.PointCloud object\n",
    "    \"\"\"\n",
    "    if direction is None:\n",
    "        direction = (0, 0., 1.)\n",
    "\n",
    "    from PIL import Image, ImageFont, ImageDraw\n",
    "    from pyquaternion import Quaternion\n",
    "#     font_obj = ImageFont.load_default()\n",
    "    font_obj = ImageFont.truetype(font, font_size*density)\n",
    "\n",
    "    font_dim = font_obj.getsize(text)\n",
    "\n",
    "    img = Image.new('RGB', font_dim, color=(255, 255, 255))\n",
    "    draw = ImageDraw.Draw(img)\n",
    "    draw.text((0, 0), text, font=font_obj, fill=(0, 0, 0))\n",
    "    img = np.asarray(img)\n",
    "    img_mask = img[:, :, 0] < 128\n",
    "    indices = np.indices([*img.shape[0:2], 1])[:, img_mask, 0].reshape(3, -1).T\n",
    "\n",
    "    pcd = o3d.geometry.PointCloud()\n",
    "    pcd.colors = o3d.utility.Vector3dVector(img[img_mask, :].astype(float)+100 )\n",
    "#     / 255.0\n",
    "    pcd.points = o3d.utility.Vector3dVector(indices / 1000 /density)\n",
    "\n",
    "    raxis = np.cross([0.0, 0.0, 1.0], direction)\n",
    "    if np.linalg.norm(raxis) < 1e-6:\n",
    "        raxis = (0.0, 0.0, 1.0)\n",
    "    trans = (Quaternion(axis=raxis, radians=np.arccos(direction[2])) *\n",
    "             Quaternion(axis=direction, degrees=degree)).transformation_matrix\n",
    "    trans[0:3, 3] = np.asarray(pos)\n",
    "    pcd.transform(trans)\n",
    "    return pcd\n",
    "# text_3d(\"test\",[0,0,0])"
   ]
  },
  {
   "cell_type": "code",
   "execution_count": 102,
   "metadata": {},
   "outputs": [],
   "source": [
    "def tracking_vis(idx,result): \n",
    "    vis = open3d.visualization.Visualizer()\n",
    "    vis.create_window()\n",
    "    vis.get_render_option().point_size = 1.0\n",
    "    vis.get_render_option().background_color = np.zeros(3)\n",
    "    axis_pcd = open3d.geometry.TriangleMesh.create_coordinate_frame(size=1.0, origin=[0, 0, 0])\n",
    "    vis.add_geometry(axis_pcd)\n",
    "    pts = open3d.geometry.PointCloud()\n",
    "    points =points_list[idx][:,:3].cpu().numpy()\n",
    "    pts.points = open3d.utility.Vector3dVector(points)\n",
    "    pts.colors = open3d.utility.Vector3dVector(np.ones((points.shape[0], 3)))\n",
    "    vis.add_geometry(pts)\n",
    "    for i in range(result.shape[0]):\n",
    "        vis_result =[]\n",
    "        vis_result[0:3] = result[i,3:6]\n",
    "        vis_result[3:6] = result[i,0:3]\n",
    "        vis_result.append(result[i,6])\n",
    "        \n",
    "        line_set, box3d = translate_boxes_to_open3d_instance(vis_result)\n",
    "        line_set.paint_uniform_color((1,1,0))\n",
    "        id_str = str(int(result[i,7]))\n",
    "#         print(id_str)\n",
    "#         print(id_str)\n",
    "#         print(vis_result[0:3])\n",
    "        text_pose=[]\n",
    "        text_pose=vis_result[0:3]\n",
    "        text_pose[2]+=0.7\n",
    "        text = text_3d(id_str,pos=text_pose[0:3])\n",
    "    \n",
    "        vis.add_geometry(text)\n",
    "        vis.add_geometry(line_set)\n",
    "        \n",
    "#         o3d.visualization.draw_geometries([pcd, chessboard_coord])\n",
    "\n",
    "            # if score is not None:\n",
    "#     corners = box3d.get_box_points()\n",
    "#     vis.add_3d_label(corners[5], '%.2f' % 0.1)\n",
    "    \n",
    "    vis.run()\n",
    "    vis.destroy_window()"
   ]
  },
  {
   "cell_type": "code",
   "execution_count": 103,
   "metadata": {},
   "outputs": [],
   "source": [
    "ID_start = 1\n",
    "total_time = 0.0\n",
    "tracker = AB3DMOT(cfg, \"Car\", ID_init=ID_start)"
   ]
  },
  {
   "cell_type": "code",
   "execution_count": 104,
   "metadata": {
    "scrolled": true
   },
   "outputs": [
    {
     "name": "stdout",
     "output_type": "stream",
     "text": [
      "\u001b[1;33m[Open3D WARNING] invalid color in PaintUniformColor, clipping to [0, 1]\u001b[0;m\n"
     ]
    }
   ],
   "source": [
    "\n",
    "for idx,pred_det in enumerate(pred_det_list):\n",
    "    since = time.time()\n",
    "    results, affi = tracker.track(pred_det)\n",
    "#     print(results)\n",
    "    total_time += time.time() - since\n",
    "    results = np.squeeze(results)\n",
    "    tracking_vis(idx,results)\n",
    "#     if idx==1:\n",
    "#         break\n",
    "# h,w,l,x,y,z,theta, ID, other info, confidence\n",
    "\n"
   ]
  },
  {
   "cell_type": "code",
   "execution_count": 47,
   "metadata": {},
   "outputs": [],
   "source": [
    "# len(pred_det_list)"
   ]
  },
  {
   "cell_type": "code",
   "execution_count": 19,
   "metadata": {},
   "outputs": [],
   "source": [
    "# fig = visualize_pts(points_list[0][:,:3].cpu().numpy())\n",
    "# fig = draw_multi_grid_range(fig, bv_range=(0, -40, 80, 40))\n",
    "# # ref_corners3d = boxes_to_corners_3d([1,1,1,1,1,1,1])\n",
    "# fig = draw_corners3d([1.,1.,1.,1.,1.,1.,1.], fig=fig, color=(0, 1, 0), cls=[91], max_num=100)"
   ]
  },
  {
   "cell_type": "code",
   "execution_count": 20,
   "metadata": {},
   "outputs": [],
   "source": [
    "# !pip install image\n",
    "# sudo fc-cache -f -v"
   ]
  },
  {
   "cell_type": "code",
   "execution_count": 21,
   "metadata": {},
   "outputs": [],
   "source": [
    "\n",
    "chessboard_coord = o3d.geometry.TriangleMesh.create_coordinate_frame(\n",
    "        size=0.02, origin=[0, 0, 0])\n",
    "# pcd_10 = text_3d('Test-10mm', pos=[0, 0, 0.01], font_size=10, density=10)\n",
    "# pcd_20 = text_3d('Test-20mm', pos=[0, 0, 0], font_size=20, density=2)\n",
    "pcd = text_3d(\"test\",pos=[0,0,0])\n",
    "o3d.visualization.draw_geometries([pcd, chessboard_coord])\n"
   ]
  },
  {
   "cell_type": "code",
   "execution_count": null,
   "metadata": {},
   "outputs": [],
   "source": []
  },
  {
   "cell_type": "code",
   "execution_count": null,
   "metadata": {},
   "outputs": [],
   "source": []
  }
 ],
 "metadata": {
  "kernelspec": {
   "display_name": "Python 3 (ipykernel)",
   "language": "python",
   "name": "python3"
  },
  "language_info": {
   "codemirror_mode": {
    "name": "ipython",
    "version": 3
   },
   "file_extension": ".py",
   "mimetype": "text/x-python",
   "name": "python",
   "nbconvert_exporter": "python",
   "pygments_lexer": "ipython3",
   "version": "3.8.16"
  },
  "vscode": {
   "interpreter": {
    "hash": "9a80c0b2ff95d398b0238a658fc2767280a63b31a3529d091b59179bbbc694b2"
   }
  }
 },
 "nbformat": 4,
 "nbformat_minor": 2
}
