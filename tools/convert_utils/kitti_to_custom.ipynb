{
 "cells": [
  {
   "cell_type": "code",
   "execution_count": 1,
   "metadata": {},
   "outputs": [
    {
     "name": "stdout",
     "output_type": "stream",
     "text": [
      "Jupyter environment detected. Enabling Open3D WebVisualizer.\n",
      "[Open3D INFO] WebRTC GUI backend enabled.\n",
      "[Open3D INFO] WebRTCWindowSystem: HTTP handshake server disabled.\n"
     ]
    }
   ],
   "source": [
    "import json\n",
    "import numpy as np\n",
    "# import quaternion\n",
    "import math\n",
    "import os\n",
    "import cv2\n",
    "import open3d as o3d\n",
    "import natsort \n",
    "import shutil\n",
    "from pyquaternion import Quaternion\n",
    "\n",
    "# from PIL import Image\n",
    "# from pyquaternion import Quaternion\n",
    "# from scipy.spatial.transform import Rotation as R\n",
    "\n",
    "\n",
    "output_path='/home/eslim/data/indoor/custom/'\n",
    "asset_path ='/home/eslim/data/indoor/asset/'\n",
    "label_path ='/home/eslim/data/indoor/labels/'\n",
    "\n",
    "\n",
    "train_ratio = 0.7\n",
    "class_names=[]"
   ]
  },
  {
   "cell_type": "code",
   "execution_count": 3,
   "metadata": {},
   "outputs": [],
   "source": [
    "# using float64 in kitti bin file\n",
    "def convert_bin_to_npy(file_path,save_path):\n",
    "    try:\n",
    "        points = np.fromfile(file_path, dtype=np.float64).reshape(-1, 4)\n",
    "        np.save(save_path, points)\n",
    "    except:\n",
    "        print(file_path)"
   ]
  },
  {
   "cell_type": "code",
   "execution_count": null,
   "metadata": {},
   "outputs": [],
   "source": [
    "'''\n",
    "move pcd file to each folder and rename as order\n",
    "'''\n",
    "def copy_pcd(path,output_path,idx):       \n",
    "    try:\n",
    "        if not os.path.exists(output_path+'points/'):\n",
    "            os.makedirs(output_path+'points/')\n",
    "    except OSError:\n",
    "        print(\"Error: Failed to create the directory.\")\n",
    "   \n",
    "    output_img_path = output_path+'points/'    \n",
    "    convert_bin_to_npy(path, output_img_path+str(idx).zfill(6)+\".npy\")          \n"
   ]
  }
 ],
 "metadata": {
  "kernelspec": {
   "display_name": "Python 3 (ipykernel)",
   "language": "python",
   "name": "python3"
  },
  "language_info": {
   "codemirror_mode": {
    "name": "ipython",
    "version": 3
   },
   "file_extension": ".py",
   "mimetype": "text/x-python",
   "name": "python",
   "nbconvert_exporter": "python",
   "pygments_lexer": "ipython3",
   "version": "3.7.11"
  }
 },
 "nbformat": 4,
 "nbformat_minor": 2
}
