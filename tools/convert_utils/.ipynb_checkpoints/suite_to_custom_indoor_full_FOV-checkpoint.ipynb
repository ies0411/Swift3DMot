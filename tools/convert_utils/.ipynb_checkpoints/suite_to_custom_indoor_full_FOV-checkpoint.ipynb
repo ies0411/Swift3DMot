{
  "cells": [
    {
      "cell_type": "code",
      "execution_count": 1,
      "id": "932f1c79",
      "metadata": {},
      "outputs": [
        {
          "name": "stdout",
          "output_type": "stream",
          "text": [
            "Jupyter environment detected. Enabling Open3D WebVisualizer.\n",
            "[Open3D INFO] WebRTC GUI backend enabled.\n",
            "[Open3D INFO] WebRTCWindowSystem: HTTP handshake server disabled.\n"
          ]
        }
      ],
      "source": [
        "import json\n",
        "import numpy as np\n",
        "import math\n",
        "import os\n",
        "import cv2\n",
        "import open3d as o3d\n",
        "import natsort \n",
        "import shutil\n",
        "from pyquaternion import Quaternion\n",
        "import sys\n",
        "import random\n",
        "import copy\n",
        "\n",
        "output_path='/mnt/nas3/Data/PCD/indoor_parking/test/custom/'\n",
        "asset_path ='/mnt/nas3/Data/PCD/indoor_parking/asset/'\n",
        "label_path ='/mnt/nas3/Data/PCD/indoor_parking/labels/'\n",
        "\n",
        "\n",
        "train_ratio = 0.8\n",
        "label_margin = 10\n",
        "class_names=[]\n",
        "max_int = sys.maxsize\n",
        "parameter_list = []\n",
        "total_label=0\n",
        "filtered_label=0\n",
        "multi_modal = False\n",
        "data_dir_num_thres = 2\n",
        "\n",
        "#Q : FOV아니고 whole scene label?\n",
        "# TODO : float32저장, np.load, no label 삭제, label이 띄어쓰기는 _등으로 연결"
      ]
    },
    {
      "cell_type": "code",
      "execution_count": 2,
      "id": "5f34d8e5",
      "metadata": {},
      "outputs": [],
      "source": [
        "asset_path_list = os.listdir(asset_path)\n",
        "for path in asset_path_list:\n",
        "    files = os.listdir(asset_path+path)\n",
        "    for file in files: \n",
        "        if '.jpg' in file or '.png' in file:\n",
        "            multi_modal = True\n",
        "            break\n",
        "    if multi_modal is False:\n",
        "        break\n"
      ]
    },
    {
      "cell_type": "code",
      "execution_count": 3,
      "id": "cedf9942",
      "metadata": {},
      "outputs": [],
      "source": [
        "'''\n",
        "convert calibration info to kitti form\n",
        "'''\n",
        "def convert_calib(calib_path):\n",
        "#     train_output_path = output_path+'calib/'\n",
        "\n",
        "#     try:\n",
        "#         if not os.path.exists(train_output_path):\n",
        "#             os.makedirs(train_output_path)\n",
        "#     except OSError:\n",
        "#         print(\"Error: Failed to create the directory.\")\n",
        "\n",
        "    try:\n",
        "        file = open(calib_path)\n",
        "    except:\n",
        "        print(\"Error: Failed to open the file\")\n",
        "   \n",
        "    jsonString = json.load(file)\n",
        "    jsonArray = jsonString.get(\"manifest\").get('frames')\n",
        "    idx=0\n",
        "    for list in jsonArray:\n",
        "        imageArray = list.get(\"images\")\n",
        "        if len(imageArray) == 0:\n",
        "            multi_modal = False\n",
        "            return None,None\n",
        "        for camArray in imageArray:\n",
        "            positionArray = camArray.get('position')\n",
        "            pose_x = positionArray.get('x')\n",
        "            pose_y = positionArray.get('y')\n",
        "            pose_z = positionArray.get('z')\n",
        "            \n",
        "            quaternionArray = camArray.get('heading')\n",
        "            qw = quaternionArray.get('qw')\n",
        "            qx = quaternionArray.get('qx')\n",
        "            qy = quaternionArray.get('qy')\n",
        "            qz = quaternionArray.get('qz')\n",
        "            rot_matrix = Quaternion(qw,qx,qy,qz).rotation_matrix\n",
        "            rot_matrix = np.linalg.inv(rot_matrix)\n",
        "            translation_matrix = np.array([pose_x,pose_y,pose_z]).reshape(3,1)\n",
        "            kitti_style_extrinsic = np.concatenate([rot_matrix, -np.matmul(rot_matrix, translation_matrix).reshape(3, 1)], axis=1)\n",
        "            cx = camArray.get('cx')\n",
        "            cy = camArray.get('cy')\n",
        "            skew = camArray.get('skew')\n",
        "            fx = camArray.get('fx')\n",
        "            fy = camArray.get('fy')\n",
        "            \n",
        "            pro_cx=camArray.get('cx')\n",
        "            pro_fx=camArray.get('fx')\n",
        "            pro_skew=camArray.get('skew')\n",
        "            pro_cy=camArray.get('cy')\n",
        "            pro_fy=camArray.get('fy')\n",
        "\n",
        "            projectionArray = camArray.get('new_camera_matrix')\n",
        "            pro_cx=projectionArray.get('cx')\n",
        "            pro_fx=projectionArray.get('fx')\n",
        "            pro_skew=projectionArray.get('skew')\n",
        "            pro_cy=projectionArray.get('cy')\n",
        "            pro_fy=projectionArray.get('fy')\n",
        "            \n",
        "\n",
        "            intrinsic = np.array([fx,skew,cx,0.0,fy,cy,0.0,0.0,1.0]).reshape(3,3)\n",
        "            extrinsic = np.array([kitti_style_extrinsic[0,0], kitti_style_extrinsic[0,1], kitti_style_extrinsic[0,2], kitti_style_extrinsic[0,3], kitti_style_extrinsic[1,0], kitti_style_extrinsic[1,1], kitti_style_extrinsic[1,2], kitti_style_extrinsic[1,3], kitti_style_extrinsic[2,0], kitti_style_extrinsic[2,1], kitti_style_extrinsic[2,2], kitti_style_extrinsic[2,3]]).reshape(3,4)\n",
        "\n",
        "    return intrinsic, extrinsic\n",
        "\n",
        "\n",
        "\n"
      ]
    },
    {
      "cell_type": "code",
      "execution_count": 4,
      "id": "6e30f157",
      "metadata": {},
      "outputs": [],
      "source": [
        "\n",
        "def filter_cameraFOV_points(points,height,width,intrinsic,extrinsic):\n",
        "    points = points[:,:3]\n",
        "    points_shape = points.shape\n",
        "    ones = np.ones((points_shape[0], 1))\n",
        "    points_homo = np.concatenate([points, ones], axis=1)\n",
        "    points_cam = np.dot(extrinsic, points_homo.T).T\n",
        "    points_prj = np.dot(intrinsic, points_cam.T).T\n",
        "    points_prj /= points_prj[:, 2:3]\n",
        "    eff_inds = (\n",
        "        (points_prj[:, 0] < width+label_margin)\n",
        "        & (points_prj[:, 0] >= 0)\n",
        "        & (points_prj[:, 1] < height+label_margin)\n",
        "        & (points_prj[:, 1] >= 0)\n",
        "        & (points_cam[:, 2] >=0)\n",
        "    )\n",
        "    eff_inds_where = np.where(eff_inds)[0]\n",
        "#     print(eff_inds_where)\n",
        "    points[eff_inds_where,:]\n",
        "    return points"
      ]
    },
    {
      "cell_type": "code",
      "execution_count": 5,
      "id": "ec23d9a1",
      "metadata": {},
      "outputs": [],
      "source": [
        "def convert_pcd_to_npy(file_path,save_path,height=None,width=None,intrinsic=None,extrinsic=None):\n",
        "    try:\n",
        "        points = o3d.read_point_cloud(file_path)\n",
        "        points = np.asarray(point_cloud.points)[:, :3]\n",
        "        if multi_modal:\n",
        "            points = filter_cameraFOV_points(points,height,width,intrinsic,extrinsic)\n",
        "\n",
        "        zeros = np.zeros(np.shape(points)[0])\n",
        "        zeros = np.reshape(zeros, (-1, 1))\n",
        "        points = np.concatenate([points, zeros], axis=1)\n",
        "        np.save(save_path, points)\n",
        "    except:\n",
        "        print(\"can not convert bin to npy\")\n",
        "        print(file_path)\n",
        "        \n",
        "def convert_bin_to_npy(file_path,save_path,height=None,width=None,intrinsic=None,extrinsic=None):\n",
        "    try:\n",
        "        points = np.fromfile(file_path, dtype=np.float32).reshape(-1, 4)\n",
        "        if multi_modal:\n",
        "            points = filter_cameraFOV_points(points,height,width,intrinsic,extrinsic)\n",
        "            zeros = np.zeros(np.shape(points)[0])\n",
        "            zeros = np.reshape(zeros, (-1, 1))\n",
        "            points = np.concatenate([points, zeros], axis=1)\n",
        "        np.save(save_path, points)\n",
        "    except:\n",
        "        print(\"can not convert bin to npy\")\n",
        "        print(file_path)\n",
        "    "
      ]
    },
    {
      "cell_type": "code",
      "execution_count": 6,
      "id": "9ad8218b",
      "metadata": {},
      "outputs": [],
      "source": [
        "'''\n",
        "move pcd file to each folder and rename as order\n",
        "'''\n",
        "def copy_pcd(mode,path,output_path,idx,height=None,width=None,intrinsic=None,extrinsic=None):       \n",
        "    try:\n",
        "        if not os.path.exists(output_path+'points/'):\n",
        "            os.makedirs(output_path+'points/')\n",
        "    except OSError:\n",
        "        print(\"Error: Failed to create the directory.\")\n",
        "   \n",
        "    if mode == \"pcd\":\n",
        "        output_points_path = output_path+'points/'\n",
        "        convert_pcd_to_npy(path, output_points_path+str(idx).zfill(6)+\".npy\",height,width,intrinsic,extrinsic)  \n",
        "    elif mode == \"bin\":\n",
        "        output_points_path = output_path+'points/'    \n",
        "        convert_bin_to_npy(path, output_points_path+str(idx).zfill(6)+\".npy\",height,width,intrinsic,extrinsic)          \n",
        "\n"
      ]
    },
    {
      "cell_type": "code",
      "execution_count": 7,
      "id": "f7d988af",
      "metadata": {},
      "outputs": [],
      "source": [
        "\n",
        "def filter_cameraFOV_labels(x,y,z,calib_idx):\n",
        "\n",
        "    intrinsic = parameter_list[calib_idx]['intrinsic']\n",
        "    extrinsic = parameter_list[calib_idx]['extrinsic']\n",
        "    width = parameter_list[calib_idx]['width']\n",
        "    height = parameter_list[calib_idx]['height']\n",
        "        \n",
        "\n",
        "    label_pose = np.array([x,y,z,1])\n",
        "    label_pose_cam = np.dot(extrinsic,label_pose.T).T\n",
        "    label_pose_prj = np.dot(intrinsic,label_pose_cam.T).T\n",
        "    label_pose_prj /= label_pose_prj[2:3]\n",
        "    eff_inds = (\n",
        "        (label_pose_prj[0] < width+label_margin)\n",
        "        & (label_pose_prj[0] >= 0)\n",
        "        & (label_pose_prj[1] < height+label_margin)\n",
        "        & (label_pose_prj[1] >= 0)\n",
        "        & (label_pose_cam[2] >=0)\n",
        "    )\n",
        "    return eff_inds\n",
        "    "
      ]
    },
    {
      "cell_type": "code",
      "execution_count": 29,
      "id": "a2747f0d",
      "metadata": {},
      "outputs": [],
      "source": [
        "'''\n",
        "convert label info to custom form\n",
        "\n",
        "format: [x y z dx dy dz heading_angle category_name]\n",
        "\n",
        "'''\n",
        "def preprocess_label(label_output,frame_num):\n",
        "    label_output = label_output+\"labels/\"\n",
        "    try:\n",
        "        if not os.path.exists(label_output):\n",
        "            os.makedirs(label_output)\n",
        "    except OSError:\n",
        "        print(\"Error: Failed to create the directory.\")\n",
        "    for i in range(frame_num):\n",
        "        try:\n",
        "            f = open(label_output+str(label_idx+i).zfill(6)+\".txt\", 'w')\n",
        "            f.close()\n",
        "        except:\n",
        "            print(\"Fail to create file\")\n",
        "\n",
        "def convert_label_suite2custom(label_path,label_output, label_idx): \n",
        "    label_output = label_output+\"labels/\"\n",
        "    print(label_path)\n",
        "    try:\n",
        "        file = open(label_path)\n",
        "    except:\n",
        "        print(\"Error: Failed to open the file\")\n",
        "\n",
        "\n",
        "    jsonString = json.load(file)   \n",
        "    # frame_num = jsonString.get(\"label\").get('asset').get(\"info\").get(\"frame_count\")\n",
        "\n",
        "\n",
        "    try:\n",
        "        jsonArray = jsonString.get('objects')\n",
        "    except:\n",
        "        print(\"can't find objects\")\n",
        "        # return label_idx\n",
        "        return\n",
        "    \n",
        "    # calib_path = output_path+'training/calib/'\n",
        "    for iter_num, list in enumerate(jsonArray):\n",
        "        frames = list.get(\"frames\")\n",
        "        class_name = list.get('class_name')\n",
        "        if class_name == \"Wall\" or class_name == 'Undefined Object' or class_name =='Undefined Stuff' or class_name==\"No Parking Sign\":\n",
        "            continue\n",
        "        if class_name == 'Traffic Cone':\n",
        "            class_name = 'Traffic_Cone'\n",
        "        if class_name ==\"Shopping Cart\":\n",
        "            class_name = 'Shopping_Cart'\n",
        "        if class_name ==\"Tow-Wheeled Vehicle\":\n",
        "            class_name = 'Tow_Wheeled_Vehicle'\n",
        "        if class_name ==\"Two-Wheeled Vehicle\":\n",
        "            class_name = 'Two_Wheeled_Vehicle'\n",
        "        global class_names\n",
        "        if (class_name in class_names) is not True:\n",
        "            \n",
        "            class_names.append(class_name)\n",
        "            \n",
        "        for frame in frames:\n",
        "            global filtered_label\n",
        "            filtered_label+=1\n",
        "            idx = frame.get('num')\n",
        "            \n",
        "            ann = frame.get('annotation').get('coord')\n",
        "            height = ann.get('size').get('z')\n",
        "            width = ann.get('size').get('y')\n",
        "            length = ann.get('size').get('x')\n",
        "            # TODO : check coordinate , lidar or cam? -> cam\n",
        "            \n",
        "            x = ann.get('position').get('x')\n",
        "            y = ann.get('position').get('y')\n",
        "            z = ann.get('position').get('z')\n",
        "            if not filter_cameraFOV_labels(x,y,z,label_idx+idx):\n",
        "                print(x,y,z)\n",
        "                print(\"label is not in FOV\")\n",
        "                continue\n",
        "            yaw_pitch_roll = Quaternion(\n",
        "                ann.get('rotation_quaternion').get('w'),\n",
        "                ann.get('rotation_quaternion').get('x'),\n",
        "                ann.get('rotation_quaternion').get('y'),\n",
        "                ann.get('rotation_quaternion').get('z'),\n",
        "            ).yaw_pitch_roll\n",
        "            yaw = yaw_pitch_roll[0]\n",
        "#             yaw = np.round_(yaw_pitch_roll[0],5)\n",
        "            global total_label\n",
        "            total_label+=1\n",
        "            f = open(label_output+str(label_idx+idx).zfill(6)+\".txt\", 'a')\n",
        "            f.write(f'{x} {y} {z} {length} {width} {height} {yaw} {class_name}\\n')\n",
        "            f.close()\n",
        "    return\n",
        "\n",
        "                           "
      ]
    },
    {
      "cell_type": "code",
      "execution_count": 9,
      "id": "d951083d",
      "metadata": {},
      "outputs": [],
      "source": [
        "def test(num):\n",
        "    return num+1\n",
        "    "
      ]
    },
    {
      "cell_type": "code",
      "execution_count": 10,
      "id": "86ad3825",
      "metadata": {
        "scrolled": true
      },
      "outputs": [],
      "source": [
        "###calib, file movement exec###\n",
        "\n",
        "asset_path_list = os.listdir(asset_path)\n",
        "asset_path_list = natsort.natsorted(asset_path_list)\n",
        "\n",
        "\n",
        "# print(asset_path_list)\n",
        "pcd_idx=0\n",
        "\n",
        "num_frame=[]\n",
        "num_frame.append(0)\n",
        "thres_flag=False\n",
        "for data_cnt,path in enumerate(asset_path_list):\n",
        "    \n",
        "    files = os.listdir(asset_path+path)\n",
        "    files = natsort.natsorted(files)\n",
        "    json_file_path=None\n",
        "    for file in files:        \n",
        "        if multi_modal:\n",
        "            json_file_path = os.path.join(asset_path+path,'manifest.json')\n",
        "            intrinsic, extrinsic=convert_calib(json_file_path) \n",
        "            \n",
        "        if '.bin' in file:\n",
        "            pcd_file_path = os.path.join(asset_path+path, file)\n",
        "            if multi_modal:\n",
        "                image_path =os.path.join(asset_path+path, files[-2])\n",
        "                image = cv2.imread(image_path)\n",
        "                height, width = image.shape[:2]\n",
        "                parameter_list.append({'intrinsic':intrinsic,'extrinsic':extrinsic,'width':width,'height':height})\n",
        "            copy_pcd('bin',pcd_file_path,output_path,pcd_idx,height,width,intrinsic,extrinsic)\n",
        "            pcd_idx+=1\n",
        "            \n",
        "            \n",
        "        if '.pcd' in file:\n",
        "            pcd_file_path = os.path.join(asset_path+path, file)\n",
        "            if multi_modal:\n",
        "                image_path =os.path.join(asset_path+path, files[-2])\n",
        "                image = cv2.imread(image_path)\n",
        "                image = cv2.imread(image_path)\n",
        "                height, width = image.shape[:2]\n",
        "                parameter_list.append({'intrinsic':intrinsic,'extrinsic':extrinsic,'width':width,'height':height})\n",
        "            copy_pcd('pcd',pcd_file_path,output_path,pcd_idx,height,width,intrinsic,extrinsic)\n",
        "            pcd_idx+=1\n",
        "               \n",
        "    if data_dir_num_thres <= data_cnt:\n",
        "        break\n",
        "    num_frame.append(pcd_idx)\n",
        "\n",
        "\n",
        "   \n",
        "          "
      ]
    },
    {
      "cell_type": "code",
      "execution_count": 11,
      "id": "1c5e7d27",
      "metadata": {},
      "outputs": [
        {
          "name": "stdout",
          "output_type": "stream",
          "text": [
            "300\n"
          ]
        }
      ],
      "source": [
        "print(len(parameter_list))"
      ]
    },
    {
      "cell_type": "code",
      "execution_count": 12,
      "id": "e6780911",
      "metadata": {},
      "outputs": [
        {
          "data": {
            "text/plain": [
              "300"
            ]
          },
          "execution_count": 12,
          "metadata": {},
          "output_type": "execute_result"
        }
      ],
      "source": [
        "# num_frame\n",
        "pcd_idx"
      ]
    },
    {
      "cell_type": "code",
      "execution_count": 13,
      "id": "137b23be",
      "metadata": {
        "scrolled": true
      },
      "outputs": [],
      "source": [
        "# #####label exec\n",
        "# import time\n",
        "# label_list = os.listdir(label_path)\n",
        "# label_list = natsort.natsorted(label_list)\n",
        "\n",
        "# label_idx=0\n",
        "\n",
        "# preprocess_label(output_path,pcd_idx)\n",
        "\n",
        "\n",
        "# start = time.time()\n",
        "\n",
        "# idx=0\n",
        "# for label_data_cnt,label in enumerate(label_list):\n",
        "#     print(idx)\n",
        "#     if asset_path_list[idx] == label.split('.')[0]:\n",
        "\n",
        "#         json_file_path = os.path.join(label_path, label)\n",
        "# #         file = open(json_file_path)\n",
        "# #         jsonString = json.load(file)\n",
        "#         convert_label_suite2custom(json_file_path,output_path, num_frame[idx])\n",
        "#         if data_dir_num_thres <= idx:\n",
        "#             break\n",
        "#         idx+=1\n",
        "# delta_t = time.time() - start\n",
        "# print(\"Total Time :\",delta_t)\n",
        "\n"
      ]
    },
    {
      "cell_type": "code",
      "execution_count": 14,
      "id": "4d1bd024",
      "metadata": {},
      "outputs": [
        {
          "data": {
            "text/plain": [
              "[0, 100, 200]"
            ]
          },
          "execution_count": 14,
          "metadata": {},
          "output_type": "execute_result"
        }
      ],
      "source": [
        "num_frame\n",
        "# 1.151613712310791"
      ]
    },
    {
      "cell_type": "code",
      "execution_count": 31,
      "id": "f26fa59f",
      "metadata": {},
      "outputs": [
        {
          "name": "stdout",
          "output_type": "stream",
          "text": [
            "0\n",
            "1\n",
            "2\n"
          ]
        },
        {
          "ename": "TypeError",
          "evalue": "map() takes from 3 to 4 positional arguments but 5 were given",
          "output_type": "error",
          "traceback": [
            "\u001b[0;31m---------------------------------------------------------------------------\u001b[0m",
            "\u001b[0;31mTypeError\u001b[0m                                 Traceback (most recent call last)",
            "\u001b[0;32m/tmp/ipykernel_14933/2424272897.py\u001b[0m in \u001b[0;36m<module>\u001b[0;34m\u001b[0m\n\u001b[1;32m     32\u001b[0m \u001b[0;31m# with futures.ProcessPoolExecutor(4) as executor:\u001b[0m\u001b[0;34m\u001b[0m\u001b[0;34m\u001b[0m\u001b[0;34m\u001b[0m\u001b[0m\n\u001b[1;32m     33\u001b[0m \u001b[0;31m#     print(\"check\")\u001b[0m\u001b[0;34m\u001b[0m\u001b[0;34m\u001b[0m\u001b[0;34m\u001b[0m\u001b[0m\n\u001b[0;32m---> 34\u001b[0;31m \u001b[0mp\u001b[0m\u001b[0;34m.\u001b[0m\u001b[0mmap\u001b[0m\u001b[0;34m(\u001b[0m\u001b[0mconvert_label_suite2custom\u001b[0m\u001b[0;34m,\u001b[0m\u001b[0mjson_file_path_list\u001b[0m\u001b[0;34m,\u001b[0m\u001b[0moutput_path\u001b[0m\u001b[0;34m,\u001b[0m\u001b[0mnum_frame_list\u001b[0m\u001b[0;34m)\u001b[0m\u001b[0;34m\u001b[0m\u001b[0;34m\u001b[0m\u001b[0m\n\u001b[0m\u001b[1;32m     35\u001b[0m \u001b[0;34m\u001b[0m\u001b[0m\n\u001b[1;32m     36\u001b[0m \u001b[0;34m\u001b[0m\u001b[0m\n",
            "\u001b[0;31mTypeError\u001b[0m: map() takes from 3 to 4 positional arguments but 5 were given"
          ]
        }
      ],
      "source": [
        "\n",
        "import time\n",
        "import concurrent.futures as futures\n",
        "label_list = os.listdir(label_path)\n",
        "label_list = natsort.natsorted(label_list)\n",
        "\n",
        "label_idx=0\n",
        "\n",
        "preprocess_label(output_path,pcd_idx)\n",
        "\n",
        "\n",
        "start = time.time()\n",
        "\n",
        "idx=0\n",
        "json_file_path_list=[]\n",
        "num_frame_list=[]\n",
        "for label_data_cnt,label in enumerate(label_list):\n",
        "    print(idx)\n",
        "    if asset_path_list[idx] == label.split('.')[0]:\n",
        "        json_file_path = os.path.join(label_path, label)\n",
        "#         file = open(json_file_path)\n",
        "#         jsonString = json.load(file)\n",
        "        json_file_path_list.append(json_file_path)\n",
        "        num_frame_list.append(num_frame[idx])\n",
        "#         convert_label_suite2custom(json_file_path,output_path, num_frame[idx])\n",
        "        if data_dir_num_thres <= idx:\n",
        "            break\n",
        "        idx+=1\n",
        "from multiprocessing import Pool\n",
        "p = Pool(4)\n",
        "# p = multiprocessing.Process(target=convert_label_suite2custom, args=(json_file_path_list,output_path,num_frame_list,))\n",
        "# p.start()\n",
        "# with futures.ProcessPoolExecutor(4) as executor:\n",
        "#     print(\"check\")\n",
        "p.map(convert_label_suite2custom,json_file_path_list,output_path,num_frame_list)\n",
        "\n",
        "\n",
        "        \n",
        "delta_t = time.time() - start\n",
        "print(\"Total Time :\",delta_t)"
      ]
    },
    {
      "cell_type": "code",
      "execution_count": null,
      "id": "310f0acd",
      "metadata": {},
      "outputs": [],
      "source": [
        "def test(a):\n",
        "    return a\n",
        "# https://stackoverflow.com/questions/5442910/how-to-use-multiprocessing-pool-map-with-multiple-arguments"
      ]
    },
    {
      "cell_type": "code",
      "execution_count": 33,
      "id": "1de6785c",
      "metadata": {},
      "outputs": [
        {
          "data": {
            "text/plain": [
              "[2, 3, 4]"
            ]
          },
          "execution_count": 33,
          "metadata": {},
          "output_type": "execute_result"
        }
      ],
      "source": [
        "from multiprocessing import Pool\n",
        "p = Pool(4)\n",
        "a=[1,2,3]\n",
        "b=[1,2,3]\n",
        "c=[1,2,3]\n",
        "p.map(test,a)"
      ]
    },
    {
      "cell_type": "code",
      "execution_count": 19,
      "id": "9b4b74c7",
      "metadata": {},
      "outputs": [
        {
          "data": {
            "text/plain": [
              "[0, 100, 200]"
            ]
          },
          "execution_count": 19,
          "metadata": {},
          "output_type": "execute_result"
        }
      ],
      "source": [
        "num_frame_list"
      ]
    },
    {
      "cell_type": "code",
      "execution_count": null,
      "id": "a2de57cd",
      "metadata": {},
      "outputs": [],
      "source": [
        "print(filtered_label)\n",
        "print(total_label)"
      ]
    },
    {
      "cell_type": "code",
      "execution_count": null,
      "id": "55c6b7bb",
      "metadata": {},
      "outputs": [],
      "source": [
        "def delete_empty_asset(asset_path,empty_label_list):\n",
        "#     label_path_list = os.listdir(label_path)\n",
        "    empty_label_list = natsort.natsorted(empty_label_list)\n",
        "    asset_path_list = os.listdir(asset_path)\n",
        "    asset_path_list = natsort.natsorted(asset_path_list)\n",
        "    empty_cnt=0\n",
        "    print(empty_label_list)\n",
        "    for asset in asset_path_list:\n",
        "#         if empty_cnt == len(empty_label_list):\n",
        "#             break\n",
        "        if empty_cnt<len(empty_label_list) and asset.split('.')[0] == empty_label_list[empty_cnt] :\n",
        "            os.remove(asset_path+asset)\n",
        "            empty_cnt+=1\n",
        "            continue\n",
        "        \n",
        "        os.rename(asset_path+asset, asset_path+str(int(asset.split('.')[0])-empty_cnt).zfill(6)+'.npy')\n",
        "    print(empty_cnt)\n",
        "  \n",
        "    \n",
        "    \n",
        "   "
      ]
    },
    {
      "cell_type": "code",
      "execution_count": null,
      "id": "d32360fd",
      "metadata": {},
      "outputs": [],
      "source": [
        "def check_empty_label(label_path):\n",
        "    label_path_list = os.listdir(label_path)\n",
        "    label_path_list = natsort.natsorted(label_path_list)\n",
        "    empty_num=0\n",
        "    empty_list =[]\n",
        "    for label in label_path_list:\n",
        "        with open(label_path+label, 'r') as f:\n",
        "            lines = f.readlines()\n",
        "            if len(lines)==0:\n",
        "                empty_num+=1\n",
        "                empty_list.append(label.split('.')[0])\n",
        "                os.remove(label_path+label)\n",
        "                continue\n",
        "        os.rename(label_path+label, label_path+str(int(label.split('.')[0])-empty_num).zfill(6)+'.txt')\n",
        "    return empty_list"
      ]
    },
    {
      "cell_type": "code",
      "execution_count": null,
      "id": "36998b4d",
      "metadata": {},
      "outputs": [],
      "source": [
        "print(len(os.listdir(output_path+'labels/')))\n",
        "print(len(os.listdir(output_path+'points/')))"
      ]
    },
    {
      "cell_type": "code",
      "execution_count": null,
      "id": "ae7435d9",
      "metadata": {},
      "outputs": [],
      "source": [
        "empty_label_list = check_empty_label(output_path+'labels/')\n",
        "delete_empty_asset(output_path+'points/',empty_label_list)\n",
        "print(len(empty_label_list))"
      ]
    },
    {
      "cell_type": "code",
      "execution_count": null,
      "id": "c66bbdfe",
      "metadata": {
        "scrolled": false
      },
      "outputs": [],
      "source": [
        "print(len(os.listdir(output_path+'labels/')))\n",
        "print(len(os.listdir(output_path+'points/')))"
      ]
    },
    {
      "cell_type": "code",
      "execution_count": null,
      "id": "775beadd",
      "metadata": {},
      "outputs": [],
      "source": [
        "label_list = os.listdir(output_path+'labels/')\n",
        "label_path_list = natsort.natsorted(label_list)\n",
        "for idx,label in enumerate(label_path_list):\n",
        "    if idx != int(label.split('.')[0]):\n",
        "        print(idx)\n",
        "        "
      ]
    },
    {
      "cell_type": "code",
      "execution_count": null,
      "id": "2f022b82",
      "metadata": {},
      "outputs": [],
      "source": [
        "asset_list = os.listdir(output_path+'points/')\n",
        "asset_list = natsort.natsorted(asset_list)\n",
        "for idx,asset in enumerate(asset_list):\n",
        "    if idx != int(asset.split('.')[0]):\n",
        "        print(idx)\n",
        "        "
      ]
    },
    {
      "cell_type": "code",
      "execution_count": null,
      "id": "2031d31e",
      "metadata": {},
      "outputs": [],
      "source": [
        "#### split train, test\n",
        "total_num=len(os.listdir(output_path+'points/'))\n",
        "\n",
        "### shffle\n",
        "total_num_list = list()\n",
        "for i in range(total_num):\n",
        "    total_num_list.append(i)\n",
        "random.shuffle(total_num_list)\n",
        "\n",
        "### mkdir\n",
        "try:\n",
        "    if not os.path.exists(output_path+'ImageSets/'):\n",
        "        os.makedirs(output_path+'ImageSets/')\n",
        "        print(\"generation\")\n",
        "except OSError:\n",
        "    print(\"Error: Failed to create the directory.\")\n",
        "    \n",
        "f2 = open(output_path+'ImageSets/'+'train'+\".txt\", 'w')\n",
        "f3 = open(output_path+'ImageSets/'+'val'+\".txt\", 'w')\n",
        "for idx,num in enumerate(total_num_list):\n",
        "    if idx < total_num*train_ratio:\n",
        "        f2.write(f'{str(num).zfill(6)}\\n')\n",
        "    else:\n",
        "        f3.write(f'{str(num).zfill(6)}\\n')\n",
        "    idx+=1\n",
        "f2.close()\n",
        "f3.close()\n"
      ]
    },
    {
      "cell_type": "code",
      "execution_count": null,
      "id": "e3d04782",
      "metadata": {},
      "outputs": [],
      "source": [
        "class_names"
      ]
    },
    {
      "cell_type": "code",
      "execution_count": null,
      "id": "eee76c0f",
      "metadata": {},
      "outputs": [],
      "source": []
    },
    {
      "cell_type": "code",
      "execution_count": null,
      "id": "5ce86ba2",
      "metadata": {},
      "outputs": [],
      "source": []
    },
    {
      "cell_type": "code",
      "execution_count": null,
      "id": "41c23149",
      "metadata": {},
      "outputs": [],
      "source": []
    },
    {
      "cell_type": "code",
      "execution_count": null,
      "id": "0b94845b",
      "metadata": {},
      "outputs": [],
      "source": []
    },
    {
      "cell_type": "code",
      "execution_count": null,
      "id": "1a04442b",
      "metadata": {},
      "outputs": [],
      "source": []
    }
  ],
  "metadata": {
    "kernelspec": {
      "display_name": "Python 3 (ipykernel)",
      "language": "python",
      "name": "python3"
    },
    "language_info": {
      "codemirror_mode": {
        "name": "ipython",
        "version": 3
      },
      "file_extension": ".py",
      "mimetype": "text/x-python",
      "name": "python",
      "nbconvert_exporter": "python",
      "pygments_lexer": "ipython3",
      "version": "3.7.11"
    },
    "vscode": {
      "interpreter": {
        "hash": "9a80c0b2ff95d398b0238a658fc2767280a63b31a3529d091b59179bbbc694b2"
      }
    }
  },
  "nbformat": 4,
  "nbformat_minor": 5
}
