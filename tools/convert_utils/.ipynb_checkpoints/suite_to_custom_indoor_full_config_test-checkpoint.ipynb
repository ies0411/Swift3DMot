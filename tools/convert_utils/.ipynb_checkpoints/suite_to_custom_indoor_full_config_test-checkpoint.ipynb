{
  "cells": [
    {
      "cell_type": "code",
      "execution_count": 1,
      "id": "932f1c79",
      "metadata": {},
      "outputs": [
        {
          "name": "stdout",
          "output_type": "stream",
          "text": [
            "Jupyter environment detected. Enabling Open3D WebVisualizer.\n",
            "[Open3D INFO] WebRTC GUI backend enabled.\n",
            "[Open3D INFO] WebRTCWindowSystem: HTTP handshake server disabled.\n"
          ]
        }
      ],
      "source": [
        "import json\n",
        "import numpy as np\n",
        "import math\n",
        "import os\n",
        "import cv2\n",
        "import open3d as o3d\n",
        "import natsort \n",
        "import shutil\n",
        "from pyquaternion import Quaternion\n",
        "import sys\n",
        "import random\n",
        "\n",
        "output_path='/mnt/nas3/Data/PCD/indoor_parking/config_test/custom/'\n",
        "asset_path ='/mnt/nas3/Data/PCD/indoor_parking/asset/'\n",
        "label_path ='/mnt/nas3/Data/PCD/indoor_parking/labels/'\n",
        "\n",
        "\n",
        "train_ratio = 0.1\n",
        "class_names=[]\n",
        "max_int = sys.maxsize\n",
        "\n",
        "data_dir_num_thres = 1\n",
        "\n",
        "#Q : FOV아니고 whole scene label?\n",
        "# TODO : float32저장, np.load, no label 삭제, label이 띄어쓰기는 _등으로 연결"
      ]
    },
    {
      "cell_type": "code",
      "execution_count": 2,
      "id": "ec23d9a1",
      "metadata": {},
      "outputs": [],
      "source": [
        "def convert_pcd_to_npy(file_path,save_path):\n",
        "    point_cloud = o3d.read_point_cloud(file_path)\n",
        "    pointcloud = np.asarray(point_cloud.points)[:, :3]\n",
        "    zeros = np.zeros(np.shape(pointcloud)[0])\n",
        "    zeros = np.reshape(zeros, (-1, 1))\n",
        "    points = np.concatenate([pointcloud, zeros], axis=1)\n",
        "    np.save(save_path, points)\n",
        "\n",
        "def convert_bin_to_npy(file_path,save_path):\n",
        "#     print(file_path)\n",
        "    try:\n",
        "        points = np.fromfile(file_path, dtype=np.float32).reshape(-1, 4)\n",
        "        np.save(save_path, points)\n",
        "    except:\n",
        "        print(file_path)\n",
        "    "
      ]
    },
    {
      "cell_type": "code",
      "execution_count": 3,
      "id": "9ad8218b",
      "metadata": {},
      "outputs": [],
      "source": [
        "'''\n",
        "move pcd file to each folder and rename as order\n",
        "'''\n",
        "def copy_pcd(mode,path,output_path,idx):       \n",
        "    try:\n",
        "        if not os.path.exists(output_path+'points/'):\n",
        "            os.makedirs(output_path+'points/')\n",
        "    except OSError:\n",
        "        print(\"Error: Failed to create the directory.\")\n",
        "   \n",
        "    if mode == \"pcd\":\n",
        "        output_img_path = output_path+'points/'\n",
        "        convert_pcd_to_npy(path, output_img_path+str(idx).zfill(6)+\".npy\")  \n",
        "    elif mode == \"bin\":\n",
        "        output_img_path = output_path+'points/'    \n",
        "        convert_bin_to_npy(path, output_img_path+str(idx).zfill(6)+\".npy\")          \n",
        "\n"
      ]
    },
    {
      "cell_type": "code",
      "execution_count": 4,
      "id": "a2747f0d",
      "metadata": {},
      "outputs": [],
      "source": [
        "'''\n",
        "convert label info to custom form\n",
        "\n",
        "format: [x y z dx dy dz heading_angle category_name]\n",
        "\n",
        "'''\n",
        "def preprocess_label(label_output,frame_num):\n",
        "    label_output = label_output+\"labels/\"\n",
        "    try:\n",
        "        if not os.path.exists(label_output):\n",
        "            os.makedirs(label_output)\n",
        "    except OSError:\n",
        "        print(\"Error: Failed to create the directory.\")\n",
        "    for i in range(frame_num):\n",
        "        try:\n",
        "            f = open(label_output+str(label_idx+i).zfill(6)+\".txt\", 'w')\n",
        "            f.close()\n",
        "        except:\n",
        "            print(\"Fail to create file\")\n",
        "\n",
        "def convert_label_suite2custom(label_path,label_output, label_idx): \n",
        "    label_output = label_output+\"labels/\"\n",
        "    try:\n",
        "        file = open(label_path)\n",
        "    except:\n",
        "        print(\"Error: Failed to open the file\")\n",
        "\n",
        "\n",
        "    jsonString = json.load(file)   \n",
        "    # frame_num = jsonString.get(\"label\").get('asset').get(\"info\").get(\"frame_count\")\n",
        "\n",
        "\n",
        "    try:\n",
        "        jsonArray = jsonString.get('objects')\n",
        "    except:\n",
        "        print(\"can't find objects\")\n",
        "        # return label_idx\n",
        "        return\n",
        "    \n",
        "    # calib_path = output_path+'training/calib/'\n",
        "    for iter_num, list in enumerate(jsonArray):\n",
        "        frames = list.get(\"frames\")\n",
        "        class_name = list.get('class_name')\n",
        "        if class_name != \"Vehicle\":\n",
        "            continue\n",
        "#         if class_name == \"Wall\" or class_name == 'Undefined Object' or class_name =='Undefined Stuff' or class_name==\"No Parking Sign\":\n",
        "#             continue\n",
        "       \n",
        "        global class_names\n",
        "        if (class_name in class_names) is not True:\n",
        "            \n",
        "            class_names.append(class_name)\n",
        "            \n",
        "        for frame in frames:\n",
        "            idx = frame.get('num')\n",
        "            \n",
        "            ann = frame.get('annotation').get('coord')\n",
        "            height = ann.get('size').get('z')\n",
        "            width = ann.get('size').get('y')\n",
        "            length = ann.get('size').get('x')\n",
        "            # TODO : check coordinate , lidar or cam? -> cam\n",
        "            \n",
        "            x = ann.get('position').get('x')\n",
        "            y = ann.get('position').get('y')\n",
        "            z = ann.get('position').get('z')\n",
        "           \n",
        "#             yaw_pitch_roll = Quaternion(ann.get('rotation_quaternion').get('w'),ann.get('rotation_quaternion').get('x'),ann.get('rotation_quaternion').get('y'),ann.get('rotation_quaternion').get('z')).yaw_pitch_roll\n",
        "            yaw_pitch_roll = Quaternion(\n",
        "                ann.get('rotation_quaternion').get('w'),\n",
        "                ann.get('rotation_quaternion').get('x'),\n",
        "                ann.get('rotation_quaternion').get('y'),\n",
        "                ann.get('rotation_quaternion').get('z'),\n",
        "            ).yaw_pitch_roll\n",
        "            yaw = yaw_pitch_roll[0]\n",
        "#             yaw = np.round_(yaw_pitch_roll[0],5)\n",
        "\n",
        "            f = open(label_output+str(label_idx+idx).zfill(6)+\".txt\", 'a')\n",
        "            f.write(f'{x} {y} {z} {length} {width} {height} {yaw} {class_name}\\n')\n",
        "            f.close()\n",
        "    return\n",
        "    # return label_idx\n",
        "\n",
        "                           "
      ]
    },
    {
      "cell_type": "code",
      "execution_count": 5,
      "id": "86ad3825",
      "metadata": {},
      "outputs": [],
      "source": [
        "###calib, file movement exec###\n",
        "\n",
        "asset_path_list = os.listdir(asset_path)\n",
        "asset_path_list = natsort.natsorted(asset_path_list)\n",
        "\n",
        "\n",
        "# print(asset_path_list)\n",
        "pcd_idx=0\n",
        "num_frame=[]\n",
        "num_frame.append(0)\n",
        "thres_flag=False\n",
        "for data_cnt,path in enumerate(asset_path_list):\n",
        "    \n",
        "    files = os.listdir(asset_path+path)\n",
        "    files = natsort.natsorted(files)\n",
        "            \n",
        "    for file in files:        \n",
        "                   \n",
        "        if '.bin' in file:\n",
        "            #TODO : preprocession\n",
        "            pcd_file_path = os.path.join(asset_path+path, file)\n",
        "            copy_pcd('bin',pcd_file_path,output_path,pcd_idx)\n",
        "            pcd_idx+=1\n",
        "            # total_num_frame+=1\n",
        "            \n",
        "        if '.pcd' in file:\n",
        "            pcd_file_path = os.path.join(asset_path+path, file)\n",
        "            copy_pcd('pcd',pcd_file_path,output_path,pcd_idx)\n",
        "            pcd_idx+=1\n",
        "            # total_num_frame+=1\n",
        "       \n",
        "    if data_dir_num_thres <= data_cnt:\n",
        "        break\n",
        "    num_frame.append(pcd_idx)\n",
        "\n"
      ]
    },
    {
      "cell_type": "code",
      "execution_count": 6,
      "id": "e6780911",
      "metadata": {},
      "outputs": [
        {
          "data": {
            "text/plain": [
              "200"
            ]
          },
          "execution_count": 6,
          "metadata": {},
          "output_type": "execute_result"
        }
      ],
      "source": [
        "# num_frame\n",
        "pcd_idx"
      ]
    },
    {
      "cell_type": "code",
      "execution_count": 7,
      "id": "471ba067",
      "metadata": {},
      "outputs": [],
      "source": [
        "# num_frame"
      ]
    },
    {
      "cell_type": "code",
      "execution_count": 8,
      "id": "137b23be",
      "metadata": {
        "scrolled": true
      },
      "outputs": [
        {
          "name": "stdout",
          "output_type": "stream",
          "text": [
            "0\n",
            "1\n"
          ]
        }
      ],
      "source": [
        "#####label exec\n",
        "\n",
        "label_list = os.listdir(label_path)\n",
        "label_list = natsort.natsorted(label_list)\n",
        "\n",
        "label_idx=0\n",
        "\n",
        "preprocess_label(output_path,pcd_idx)\n",
        "\n",
        "\n",
        "\n",
        "idx=0\n",
        "for label_data_cnt,label in enumerate(label_list):\n",
        "    print(idx)\n",
        "    if asset_path_list[idx] == label.split('.')[0]:\n",
        "\n",
        "        json_file_path = os.path.join(label_path, label)\n",
        "        file = open(json_file_path)\n",
        "        jsonString = json.load(file)\n",
        "        convert_label_suite2custom(json_file_path,output_path, num_frame[idx])\n",
        "        if data_dir_num_thres <= idx:\n",
        "            break\n",
        "        idx+=1\n",
        "    \n"
      ]
    },
    {
      "cell_type": "code",
      "execution_count": 9,
      "id": "55c6b7bb",
      "metadata": {},
      "outputs": [],
      "source": [
        "def delete_empty_asset(asset_path,empty_label_list):\n",
        "#     label_path_list = os.listdir(label_path)\n",
        "    empty_label_list = natsort.natsorted(empty_label_list)\n",
        "    asset_path_list = os.listdir(asset_path)\n",
        "    asset_path_list = natsort.natsorted(asset_path_list)\n",
        "    empty_cnt=0\n",
        "    print(empty_label_list)\n",
        "    for asset in asset_path_list:\n",
        "#         if empty_cnt == len(empty_label_list):\n",
        "#             break\n",
        "        if empty_cnt<len(empty_label_list) and asset.split('.')[0] == empty_label_list[empty_cnt] :\n",
        "            os.remove(asset_path+asset)\n",
        "            empty_cnt+=1\n",
        "            continue\n",
        "        \n",
        "        os.rename(asset_path+asset, asset_path+str(int(asset.split('.')[0])-empty_cnt).zfill(6)+'.npy')\n",
        "    print(empty_cnt)\n",
        "  \n",
        "    \n",
        "    \n",
        "   "
      ]
    },
    {
      "cell_type": "code",
      "execution_count": 10,
      "id": "d32360fd",
      "metadata": {},
      "outputs": [],
      "source": [
        "def check_empty_label(label_path):\n",
        "    label_path_list = os.listdir(label_path)\n",
        "    label_path_list = natsort.natsorted(label_path_list)\n",
        "    empty_num=0\n",
        "    empty_list =[]\n",
        "    for label in label_path_list:\n",
        "        with open(label_path+label, 'r') as f:\n",
        "            lines = f.readlines()\n",
        "            if len(lines)==0:\n",
        "                empty_num+=1\n",
        "                empty_list.append(label.split('.')[0])\n",
        "                os.remove(label_path+label)\n",
        "                continue\n",
        "        os.rename(label_path+label, label_path+str(int(label.split('.')[0])-empty_num).zfill(6)+'.txt')\n",
        "    return empty_list"
      ]
    },
    {
      "cell_type": "code",
      "execution_count": 11,
      "id": "36998b4d",
      "metadata": {},
      "outputs": [
        {
          "name": "stdout",
          "output_type": "stream",
          "text": [
            "200\n",
            "200\n"
          ]
        }
      ],
      "source": [
        "print(len(os.listdir(output_path+'labels/')))\n",
        "print(len(os.listdir(output_path+'points/')))"
      ]
    },
    {
      "cell_type": "code",
      "execution_count": 12,
      "id": "ae7435d9",
      "metadata": {},
      "outputs": [
        {
          "name": "stdout",
          "output_type": "stream",
          "text": [
            "['000017', '000018', '000019', '000020', '000060', '000061', '000062', '000063', '000064', '000065', '000066', '000067', '000068', '000069', '000070', '000071', '000072', '000073', '000074', '000075', '000076', '000077', '000078', '000079', '000080', '000081', '000112', '000113', '000114', '000115', '000116', '000117', '000118', '000119', '000120', '000184', '000185', '000186', '000187', '000188', '000189', '000190', '000191', '000192', '000193', '000194', '000195', '000196', '000197', '000198']\n",
            "50\n",
            "50\n"
          ]
        }
      ],
      "source": [
        "empty_label_list = check_empty_label(output_path+'labels/')\n",
        "delete_empty_asset(output_path+'points/',empty_label_list)\n",
        "print(len(empty_label_list))"
      ]
    },
    {
      "cell_type": "code",
      "execution_count": 13,
      "id": "c66bbdfe",
      "metadata": {
        "scrolled": false
      },
      "outputs": [
        {
          "name": "stdout",
          "output_type": "stream",
          "text": [
            "150\n",
            "150\n"
          ]
        }
      ],
      "source": [
        "print(len(os.listdir(output_path+'labels/')))\n",
        "print(len(os.listdir(output_path+'points/')))"
      ]
    },
    {
      "cell_type": "code",
      "execution_count": 14,
      "id": "775beadd",
      "metadata": {},
      "outputs": [],
      "source": [
        "label_list = os.listdir(output_path+'labels/')\n",
        "label_path_list = natsort.natsorted(label_list)\n",
        "for idx,label in enumerate(label_path_list):\n",
        "    if idx != int(label.split('.')[0]):\n",
        "        print(idx)\n",
        "        "
      ]
    },
    {
      "cell_type": "code",
      "execution_count": 15,
      "id": "2f022b82",
      "metadata": {},
      "outputs": [],
      "source": [
        "asset_list = os.listdir(output_path+'points/')\n",
        "asset_list = natsort.natsorted(asset_list)\n",
        "for idx,asset in enumerate(asset_list):\n",
        "    if idx != int(asset.split('.')[0]):\n",
        "        print(idx)\n",
        "        "
      ]
    },
    {
      "cell_type": "code",
      "execution_count": 16,
      "id": "2031d31e",
      "metadata": {},
      "outputs": [
        {
          "name": "stdout",
          "output_type": "stream",
          "text": [
            "generation\n"
          ]
        }
      ],
      "source": [
        "#### split train, test\n",
        "total_num=len(os.listdir(output_path+'points/'))\n",
        "\n",
        "### shffle\n",
        "total_num_list = list()\n",
        "for i in range(total_num):\n",
        "    total_num_list.append(i)\n",
        "random.shuffle(total_num_list)\n",
        "\n",
        "### mkdir\n",
        "try:\n",
        "    if not os.path.exists(output_path+'ImageSets/'):\n",
        "        os.makedirs(output_path+'ImageSets/')\n",
        "        print(\"generation\")\n",
        "except OSError:\n",
        "    print(\"Error: Failed to create the directory.\")\n",
        "    \n",
        "f2 = open(output_path+'ImageSets/'+'train'+\".txt\", 'w')\n",
        "f3 = open(output_path+'ImageSets/'+'val'+\".txt\", 'w')\n",
        "for idx,num in enumerate(total_num_list):\n",
        "    if idx < total_num*train_ratio:\n",
        "        f2.write(f'{str(num).zfill(6)}\\n')\n",
        "    else:\n",
        "        f3.write(f'{str(num).zfill(6)}\\n')\n",
        "    idx+=1\n",
        "f2.close()\n",
        "f3.close()\n"
      ]
    },
    {
      "cell_type": "code",
      "execution_count": 17,
      "id": "e3d04782",
      "metadata": {},
      "outputs": [
        {
          "data": {
            "text/plain": [
              "['Vehicle']"
            ]
          },
          "execution_count": 17,
          "metadata": {},
          "output_type": "execute_result"
        }
      ],
      "source": [
        "class_names"
      ]
    },
    {
      "cell_type": "code",
      "execution_count": null,
      "id": "eee76c0f",
      "metadata": {},
      "outputs": [],
      "source": []
    },
    {
      "cell_type": "code",
      "execution_count": null,
      "id": "5ce86ba2",
      "metadata": {},
      "outputs": [],
      "source": []
    },
    {
      "cell_type": "code",
      "execution_count": null,
      "id": "41c23149",
      "metadata": {},
      "outputs": [],
      "source": []
    },
    {
      "cell_type": "code",
      "execution_count": null,
      "id": "0b94845b",
      "metadata": {},
      "outputs": [],
      "source": []
    },
    {
      "cell_type": "code",
      "execution_count": null,
      "id": "1a04442b",
      "metadata": {},
      "outputs": [],
      "source": []
    }
  ],
  "metadata": {
    "kernelspec": {
      "display_name": "Python 3 (ipykernel)",
      "language": "python",
      "name": "python3"
    },
    "language_info": {
      "codemirror_mode": {
        "name": "ipython",
        "version": 3
      },
      "file_extension": ".py",
      "mimetype": "text/x-python",
      "name": "python",
      "nbconvert_exporter": "python",
      "pygments_lexer": "ipython3",
      "version": "3.7.11"
    },
    "vscode": {
      "interpreter": {
        "hash": "9a80c0b2ff95d398b0238a658fc2767280a63b31a3529d091b59179bbbc694b2"
      }
    }
  },
  "nbformat": 4,
  "nbformat_minor": 5
}
