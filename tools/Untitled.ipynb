{
 "cells": [
  {
   "cell_type": "code",
   "execution_count": 1,
   "id": "7d337df9",
   "metadata": {},
   "outputs": [
    {
     "ename": "SyntaxError",
     "evalue": "invalid token (3735774843.py, line 1)",
     "output_type": "error",
     "traceback": [
      "\u001b[0;36m  File \u001b[0;32m\"/tmp/ipykernel_33964/3735774843.py\"\u001b[0;36m, line \u001b[0;32m1\u001b[0m\n\u001b[0;31m    0000002681\u001b[0m\n\u001b[0m             ^\u001b[0m\n\u001b[0;31mSyntaxError\u001b[0m\u001b[0;31m:\u001b[0m invalid token\n"
     ]
    }
   ],
   "source": [
    "0000002681\n",
    " npy_file_name = \"{:010d}.npy\".format(seq)"
   ]
  },
  {
   "cell_type": "code",
   "execution_count": 5,
   "id": "33b1fa36",
   "metadata": {
    "scrolled": false
   },
   "outputs": [
    {
     "name": "stdout",
     "output_type": "stream",
     "text": [
      "0000002581\n",
      "0000002582\n",
      "0000002583\n",
      "0000002584\n",
      "0000002585\n",
      "0000002586\n",
      "0000002587\n",
      "0000002588\n",
      "0000002589\n",
      "0000002590\n",
      "0000002591\n",
      "0000002592\n",
      "0000002593\n",
      "0000002594\n",
      "0000002595\n",
      "0000002596\n",
      "0000002597\n",
      "0000002598\n",
      "0000002599\n",
      "0000002600\n",
      "0000002601\n",
      "0000002602\n",
      "0000002603\n",
      "0000002604\n",
      "0000002605\n",
      "0000002606\n",
      "0000002607\n",
      "0000002608\n",
      "0000002609\n",
      "0000002610\n",
      "0000002611\n",
      "0000002612\n",
      "0000002613\n",
      "0000002614\n",
      "0000002615\n",
      "0000002616\n",
      "0000002617\n",
      "0000002618\n",
      "0000002619\n",
      "0000002620\n",
      "0000002621\n",
      "0000002622\n",
      "0000002623\n",
      "0000002624\n",
      "0000002625\n",
      "0000002626\n",
      "0000002627\n",
      "0000002628\n",
      "0000002629\n",
      "0000002630\n",
      "0000002631\n",
      "0000002632\n",
      "0000002633\n",
      "0000002634\n",
      "0000002635\n",
      "0000002636\n",
      "0000002637\n",
      "0000002638\n",
      "0000002639\n",
      "0000002640\n",
      "0000002641\n",
      "0000002642\n",
      "0000002643\n",
      "0000002644\n",
      "0000002645\n",
      "0000002646\n",
      "0000002647\n",
      "0000002648\n",
      "0000002649\n",
      "0000002650\n",
      "0000002651\n",
      "0000002652\n",
      "0000002653\n",
      "0000002654\n",
      "0000002655\n",
      "0000002656\n",
      "0000002657\n",
      "0000002658\n",
      "0000002659\n",
      "0000002660\n",
      "0000002661\n",
      "0000002662\n",
      "0000002663\n",
      "0000002664\n",
      "0000002665\n",
      "0000002666\n",
      "0000002667\n",
      "0000002668\n",
      "0000002669\n",
      "0000002670\n",
      "0000002671\n",
      "0000002672\n",
      "0000002673\n",
      "0000002674\n",
      "0000002675\n",
      "0000002676\n",
      "0000002677\n",
      "0000002678\n",
      "0000002679\n",
      "0000002680\n",
      "0000002681\n"
     ]
    }
   ],
   "source": [
    "for i in range(2581,2682):\n",
    "    print(\"{:010d}\".format(i))"
   ]
  },
  {
   "cell_type": "code",
   "execution_count": 3,
   "id": "b654eac9",
   "metadata": {},
   "outputs": [
    {
     "ename": "ImportError",
     "evalue": "cannot import name 'spb3d_cuda' from 'pcdet.custom' (unknown location)",
     "output_type": "error",
     "traceback": [
      "\u001b[0;31m---------------------------------------------------------------------------\u001b[0m",
      "\u001b[0;31mImportError\u001b[0m                               Traceback (most recent call last)",
      "\u001b[0;32m/tmp/ipykernel_55300/3545899093.py\u001b[0m in \u001b[0;36m<module>\u001b[0;34m\u001b[0m\n\u001b[0;32m----> 1\u001b[0;31m \u001b[0;32mfrom\u001b[0m \u001b[0mpcdet\u001b[0m\u001b[0;34m.\u001b[0m\u001b[0mcustom\u001b[0m \u001b[0;32mimport\u001b[0m \u001b[0mspb3d_cuda\u001b[0m\u001b[0;34m\u001b[0m\u001b[0;34m\u001b[0m\u001b[0m\n\u001b[0m",
      "\u001b[0;31mImportError\u001b[0m: cannot import name 'spb3d_cuda' from 'pcdet.custom' (unknown location)"
     ]
    }
   ],
   "source": [
    "from pcdet.custom import spb3d_cuda"
   ]
  }
 ],
 "metadata": {
  "kernelspec": {
   "display_name": "Python 3 (ipykernel)",
   "language": "python",
   "name": "python3"
  },
  "language_info": {
   "codemirror_mode": {
    "name": "ipython",
    "version": 3
   },
   "file_extension": ".py",
   "mimetype": "text/x-python",
   "name": "python",
   "nbconvert_exporter": "python",
   "pygments_lexer": "ipython3",
   "version": "3.7.11"
  }
 },
 "nbformat": 4,
 "nbformat_minor": 5
}
